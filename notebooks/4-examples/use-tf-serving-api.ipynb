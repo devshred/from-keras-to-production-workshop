{
 "cells": [
  {
   "cell_type": "code",
   "execution_count": 1,
   "metadata": {},
   "outputs": [],
   "source": [
    "import grpc\n",
    "import cv2\n",
    "import numpy as np\n",
    "from tensorflow_serving.apis import prediction_service_pb2_grpc\n",
    "from tensorflow_serving.apis import get_model_metadata_pb2\n",
    "from tensorflow_serving.apis import predict_pb2\n",
    "from tensorflow.contrib.util import make_tensor_proto"
   ]
  },
  {
   "cell_type": "code",
   "execution_count": 2,
   "metadata": {},
   "outputs": [
    {
     "data": {
      "text/plain": [
       "\u001b[0;31mType:\u001b[0m           PredictionServiceStub\n",
       "\u001b[0;31mString form:\u001b[0m    <tensorflow_serving.apis.prediction_service_pb2_grpc.PredictionServiceStub object at 0x7f16b4b93f98>\n",
       "\u001b[0;31mFile:\u001b[0m           /usr/local/lib/python3.6/site-packages/tensorflow_serving/apis/prediction_service_pb2_grpc.py\n",
       "\u001b[0;31mDocstring:\u001b[0m     \n",
       "open source marker; do not remove\n",
       "PredictionService provides access to machine-learned models loaded by\n",
       "model_servers.\n",
       "\u001b[0;31mInit docstring:\u001b[0m\n",
       "Constructor.\n",
       "\n",
       "Args:\n",
       "  channel: A grpc.Channel.\n"
      ]
     },
     "metadata": {},
     "output_type": "display_data"
    }
   ],
   "source": [
    "\"\"\"\n",
    "Die Verbindungsdaten zum TensorFlow-Serving ModelServer\n",
    "\"\"\"\n",
    "host = \"localhost\"\n",
    "port = \"9000\"\n",
    "channel = grpc.insecure_channel(\"172.17.0.3:8500\")\n",
    "stub = prediction_service_pb2_grpc.PredictionServiceStub(channel)\n",
    "stub?"
   ]
  },
  {
   "cell_type": "code",
   "execution_count": 3,
   "metadata": {},
   "outputs": [
    {
     "data": {
      "text/plain": [
       "\u001b[0;31mType:\u001b[0m            GetModelMetadataResponse\n",
       "\u001b[0;31mString form:\u001b[0m    \n",
       "model_spec {\n",
       "           name: \"fruits\"\n",
       "           version {\n",
       "           value: 1\n",
       "           }\n",
       "           }\n",
       "           metadata {\n",
       "           key: \"signature_def\"\n",
       "           <...> 377\\377\\377\\377\\377\\377\\377\\377\\377\\001\\022\\002\\010\\020\\032\\032tensorflow/serving/predict\"\n",
       "           }\n",
       "           }\n",
       "           \n",
       "\u001b[0;31mFile:\u001b[0m            /usr/local/lib/python3.6/site-packages/tensorflow_serving/apis/get_model_metadata_pb2.py\n",
       "\u001b[0;31mDocstring:\u001b[0m       <no docstring>\n",
       "\u001b[0;31mClass docstring:\u001b[0m A ProtocolMessage\n"
      ]
     },
     "metadata": {},
     "output_type": "display_data"
    }
   ],
   "source": [
    "status = get_model_metadata_pb2.GetModelMetadataRequest()\n",
    "status.model_spec.name = 'fruits'\n",
    "status.model_spec.version.value = 1\n",
    "status.metadata_field.append(\"signature_def\")\n",
    "response = stub.GetModelMetadata(status, 10)\n",
    "response?"
   ]
  },
  {
   "cell_type": "code",
   "execution_count": 4,
   "metadata": {},
   "outputs": [
    {
     "data": {
      "text/plain": [
       "\u001b[0;31mType:\u001b[0m            PredictResponse\n",
       "\u001b[0;31mString form:\u001b[0m    \n",
       "outputs {\n",
       "           key: \"prediction\"\n",
       "           value {\n",
       "           dtype: DT_FLOAT\n",
       "           tensor_shape {\n",
       "           dim {\n",
       "           <...> model_spec {\n",
       "           name: \"fruits\"\n",
       "           version {\n",
       "           value: 1\n",
       "           }\n",
       "           signature_name: \"serving_default\"\n",
       "           }\n",
       "           \n",
       "\u001b[0;31mFile:\u001b[0m            /usr/local/lib/python3.6/site-packages/tensorflow_serving/apis/predict_pb2.py\n",
       "\u001b[0;31mDocstring:\u001b[0m       <no docstring>\n",
       "\u001b[0;31mClass docstring:\u001b[0m A ProtocolMessage\n"
      ]
     },
     "metadata": {},
     "output_type": "display_data"
    }
   ],
   "source": [
    "request = predict_pb2.PredictRequest()\n",
    "request.model_spec.name = 'fruits'\n",
    "request.model_spec.version.value = 1\n",
    "img = cv2.imread(\"../1-deeplearning/test_images/Banana/Banana_wiki.jpg\").astype(np.float32)\n",
    "img = cv2.resize(img, (20, 20))\n",
    "img = img / 255\n",
    "x, y, c = img.shape\n",
    "proto = make_tensor_proto(img, shape=[1, x, y, c])\n",
    "request.inputs['input'].CopyFrom(proto)\n",
    "result = stub.Predict(request)  # 10 secs timeout\n",
    "result?"
   ]
  },
  {
   "cell_type": "code",
   "execution_count": 6,
   "metadata": {},
   "outputs": [
    {
     "name": "stdout",
     "output_type": "stream",
     "text": [
      "0.9750781655311584\n"
     ]
    }
   ],
   "source": [
    "prediction = result.outputs['prediction'].float_val\n",
    "max_value = max(prediction)\n",
    "max_index = list(prediction).index(max_value)\n",
    "print(max_value)"
   ]
  }
 ],
 "metadata": {
  "kernelspec": {
   "display_name": "Python 3",
   "language": "python",
   "name": "python3"
  },
  "language_info": {
   "codemirror_mode": {
    "name": "ipython",
    "version": 3
   },
   "file_extension": ".py",
   "mimetype": "text/x-python",
   "name": "python",
   "nbconvert_exporter": "python",
   "pygments_lexer": "ipython3",
   "version": "3.6.8"
  }
 },
 "nbformat": 4,
 "nbformat_minor": 2
}
